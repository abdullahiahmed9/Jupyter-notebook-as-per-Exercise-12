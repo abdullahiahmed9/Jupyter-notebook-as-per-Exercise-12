{
  "metadata": {
    "kernelspec": {
      "name": "python",
      "display_name": "Python (Pyodide)",
      "language": "python"
    },
    "language_info": {
      "codemirror_mode": {
        "name": "python",
        "version": 3
      },
      "file_extension": ".py",
      "mimetype": "text/x-python",
      "name": "python",
      "nbconvert_exporter": "python",
      "pygments_lexer": "ipython3",
      "version": "3.8"
    }
  },
  "nbformat_minor": 4,
  "nbformat": 4,
  "cells": [
    {
      "cell_type": "markdown",
      "source": "# Data Science Tools and Ecosystem",
      "metadata": {}
    },
    {
      "cell_type": "code",
      "source": "## 3 Introduction\nIn this notebook, we will explore various tools, languages, and libraries used in the field of Data Science. Additionally, \nwe will perform simple arithmetic operations and learn basic data manipulation.\n",
      "metadata": {
        "trusted": true
      },
      "outputs": [],
      "execution_count": null
    },
    {
      "cell_type": "code",
      "source": "## 4 Languages used in Data Science\n- Python\n- R\n- SQL\n- Java\n- Julia\n",
      "metadata": {
        "trusted": true
      },
      "outputs": [],
      "execution_count": null
    },
    {
      "cell_type": "code",
      "source": "## 5 Popular Data Science Libraries\n- Pandas\n- NumPy\n- Matplotlib\n- Scikit-learn\n- TensorFlow\n",
      "metadata": {
        "trusted": true
      },
      "outputs": [],
      "execution_count": null
    },
    {
      "cell_type": "code",
      "source": "## 6 Data Science Tools\n\n| Tool            | Description                       |\n|-----------------|-----------------------------------|\n| Jupyter Notebook | Interactive coding and reporting |\n| RStudio          | R programming IDE                |\n| Apache Spark     | Big data processing framework    |\n| TensorFlow       | Machine learning framework       |\n| Tableau          | Data visualization software      |\n",
      "metadata": {
        "trusted": true
      },
      "outputs": [],
      "execution_count": null
    },
    {
      "cell_type": "code",
      "source": "### 7 Examples of Arithmetic Expressions\nBelow are examples of simple arithmetic expressions like addition and multiplication.\n",
      "metadata": {
        "trusted": true
      },
      "outputs": [],
      "execution_count": null
    },
    {
      "cell_type": "code",
      "source": "# 8 This is a simple arithmetic expression to multiply then add integers\nresult = (3 * 4) + 5\nprint(result)\n",
      "metadata": {
        "trusted": true
      },
      "outputs": [
        {
          "name": "stdout",
          "text": "17\n",
          "output_type": "stream"
        }
      ],
      "execution_count": 3
    },
    {
      "cell_type": "code",
      "source": "# 9 This will convert 200 minutes to hours by dividing by 60\nminutes = 200\nhours = minutes / 60\nprint(hours)",
      "metadata": {
        "trusted": true
      },
      "outputs": [
        {
          "name": "stdout",
          "text": "3.3333333333333335\n",
          "output_type": "stream"
        }
      ],
      "execution_count": 4
    },
    {
      "cell_type": "markdown",
      "source": "**Objectives:**\n- List popular languages for Data Science\n- Identify commonly used libraries and tools in Data Science\n- Create and evaluate arithmetic expressions in Python\n- Convert units (e.g., minutes to hours) using Python\n- Understand basic structure and components of a Jupyter notebook\n",
      "metadata": {}
    },
    {
      "cell_type": "code",
      "source": "## Author\nAbdullahi Ahmed Said\n",
      "metadata": {
        "trusted": true
      },
      "outputs": [],
      "execution_count": null
    }
  ]
}
